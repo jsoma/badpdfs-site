{
  "cells": [
    {
      "cell_type": "markdown",
      "metadata": {},
      "source": [
        "# CIA Document Analysis\n",
        "\n",
        "Extracting information from declassified CIA documents using AI\n"
      ]
    },
    {
      "cell_type": "code",
      "execution_count": null,
      "metadata": {},
      "outputs": [],
      "source": [
        "# Install natural-pdf\n",
        "!pip install natural-pdf"
      ]
    },
    {
      "cell_type": "code",
      "execution_count": null,
      "metadata": {},
      "outputs": [],
      "source": [
        "# Download the PDF file\n",
        "import urllib.request\n",
        "import os\n",
        "\n",
        "pdf_url = \"https://pub-4e99d31d19cb404d8d4f5f7efa51ef6e.r2.dev/pdfs/cia-document/cia-doc.pdf\"\n",
        "pdf_name = \"cia-doc.pdf\"\n",
        "\n",
        "if not os.path.exists(pdf_name):\n",
        "    print(f\"Downloading {pdf_name}...\")\n",
        "    urllib.request.urlretrieve(pdf_url, pdf_name)\n",
        "    print(f\"Downloaded {pdf_name}\")\n",
        "else:\n",
        "    print(f\"{pdf_name} already exists\")"
      ]
    },
    {
      "cell_type": "markdown",
      "metadata": {},
      "source": [
        "# CIA Document Classification\n",
        "\n",
        "Let's work with a declassified CIA document and use AI to classify and extract information."
      ]
    },
    {
      "cell_type": "code",
      "execution_count": null,
      "metadata": {},
      "outputs": [],
      "source": [
        "from natural_pdf import PDF\n",
        "\n",
        "pdf = PDF(\"cia-doc.pdf\")\n",
        "pdf.pages.show(cols=6)"
      ]
    },
    {
      "cell_type": "markdown",
      "metadata": {},
      "source": [
        "Just like we did above, we can ask what category we think the PDF belongs to."
      ]
    },
    {
      "cell_type": "code",
      "execution_count": null,
      "metadata": {},
      "outputs": [],
      "source": [
        "pdf.classify(\n",
        "    ['slaughterhouse report', 'dolphin training manual', 'basketball', 'birding'],\n",
        "    using='text'\n",
        ")\n",
        "(pdf.category, pdf.category_confidence)"
      ]
    },
    {
      "cell_type": "markdown",
      "metadata": {},
      "source": [
        "I promise birding is real! The PDF is about *using pigeons to take surveillance photos.*\n",
        "\n",
        "But beyond the text content, notice how all of the pages look very very different. **We can also categorize each page using vision!**"
      ]
    },
    {
      "cell_type": "code",
      "execution_count": null,
      "metadata": {},
      "outputs": [],
      "source": [
        "pdf.classify_pages(\n",
        "    ['diagram', 'text', 'invoice', 'blank'],\n",
        "    using='vision'\n",
        ")\n",
        "\n",
        "for page in pdf.pages:\n",
        "    print(f\"Page {page.number} is {page.category} - {page.category_confidence:0.3}\")"
      ]
    },
    {
      "cell_type": "markdown",
      "metadata": {},
      "source": [
        "And if we just want to see the pages that are diagrams, we can `.filter` for them."
      ]
    },
    {
      "cell_type": "code",
      "execution_count": null,
      "metadata": {},
      "outputs": [],
      "source": [
        "(\n",
        "    pdf.pages\n",
        "    .filter(lambda page: page.category == 'diagram')\n",
        "    .show(show_category=True)\n",
        ")\n"
      ]
    },
    {
      "cell_type": "markdown",
      "metadata": {},
      "source": [
        "We can also put them into groups."
      ]
    },
    {
      "cell_type": "code",
      "execution_count": null,
      "metadata": {},
      "outputs": [],
      "source": [
        "groups = pdf.pages.groupby(lambda page: page.category)\n",
        "groups.info()"
      ]
    },
    {
      "cell_type": "code",
      "execution_count": null,
      "metadata": {},
      "outputs": [],
      "source": [
        "diagrams = groups.get('diagram')\n",
        "diagrams.show()"
      ]
    },
    {
      "cell_type": "markdown",
      "metadata": {},
      "source": [
        "And if that's all we're interested in? We can save a new PDF of just those pages!"
      ]
    },
    {
      "cell_type": "code",
      "execution_count": null,
      "metadata": {},
      "outputs": [],
      "source": [
        "(\n",
        "    pdf.pages\n",
        "    .filter(lambda page: page.category == 'diagram')\n",
        "    .save_pdf(\"diagrams.pdf\", original=True)\n",
        ")"
      ]
    }
  ],
  "metadata": {
    "kernelspec": {
      "display_name": "Python 3",
      "language": "python",
      "name": "python3"
    },
    "language_info": {
      "codemirror_mode": {
        "name": "ipython",
        "version": 3
      },
      "file_extension": ".py",
      "mimetype": "text/x-python",
      "name": "python",
      "nbconvert_exporter": "python",
      "pygments_lexer": "ipython3",
      "version": "3.8.0"
    }
  },
  "nbformat": 4,
  "nbformat_minor": 4
}