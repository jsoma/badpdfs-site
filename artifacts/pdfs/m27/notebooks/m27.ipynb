{
  "cells": [
    {
      "cell_type": "markdown",
      "metadata": {},
      "source": [
        "# Extracting Data Tables from Oklahoma Booze Licensees PDF\n",
        "\n",
        "This PDF contains detailed tables listing alcohol licensees in Oklahoma. It has multi-line cells making it hard to extract data accurately. Challenges include alternative row colors instead of lines (\"zebra stripes\"), complicating row differentiation and extraction.\n"
      ]
    },
    {
      "cell_type": "code",
      "execution_count": null,
      "metadata": {},
      "outputs": [],
      "source": [
        "# Install natural-pdf\n",
        "!pip install natural-pdf"
      ]
    },
    {
      "cell_type": "code",
      "execution_count": null,
      "metadata": {},
      "outputs": [],
      "source": [
        "# Download the PDF file\n",
        "import urllib.request\n",
        "import os\n",
        "\n",
        "pdf_url = \"https://pub-4e99d31d19cb404d8d4f5f7efa51ef6e.r2.dev/pdfs/m27/m27.pdf\"\n",
        "pdf_name = \"m27.pdf\"\n",
        "\n",
        "if not os.path.exists(pdf_name):\n",
        "    print(f\"Downloading {pdf_name}...\")\n",
        "    urllib.request.urlretrieve(pdf_url, pdf_name)\n",
        "    print(f\"Downloaded {pdf_name}\")\n",
        "else:\n",
        "    print(f\"{pdf_name} already exists\")"
      ]
    },
    {
      "cell_type": "markdown",
      "metadata": {},
      "source": [
        "# Extracting Data Tables from Oklahoma Booze Licensees PDF\n",
        "\n",
        "This PDF contains detailed tables listing alcohol licensees in Oklahoma. It has zebra-striped, multi-line cells without lines, making it hard to extract data accurately.\n",
        "\n",
        "*...or is that helpful?*"
      ]
    },
    {
      "cell_type": "code",
      "execution_count": null,
      "metadata": {},
      "outputs": [],
      "source": [
        "from natural_pdf import PDF\n",
        "\n",
        "pdf = PDF(\"m27.pdf\")\n",
        "page = pdf.pages[0]\n",
        "page.show()"
      ]
    },
    {
      "cell_type": "markdown",
      "metadata": {},
      "source": [
        "## Exclusions\n",
        "\n",
        "First let's think about what we don't want: headers and footers."
      ]
    },
    {
      "cell_type": "code",
      "execution_count": null,
      "metadata": {},
      "outputs": [],
      "source": [
        "header = page.find(text=\"PREMISE\").above()\n",
        "footer = page.find(\"text:regex(Page \\d+ of)\")\n",
        "(header + footer).show()"
      ]
    },
    {
      "cell_type": "markdown",
      "metadata": {},
      "source": [
        "To make exclusions apply to *each* page instead of just your current page, you can use `lambda page: page.xxx`."
      ]
    },
    {
      "cell_type": "code",
      "execution_count": null,
      "metadata": {},
      "outputs": [],
      "source": [
        "print(\"Before exclusions:\", page.extract_text()[:200])\n",
        "\n",
        "# Add exclusions\n",
        "pdf.add_exclusion(lambda page: page.find(text=\"PREMISE\").above())\n",
        "pdf.add_exclusion(lambda page: page.find(\"text:regex(Page \\d+ of)\").expand())\n",
        "\n",
        "print(\"After exclusions:\", page.extract_text()[:200])\n",
        "\n",
        "# Preview\n",
        "page.show(exclusions='red')"
      ]
    },
    {
      "cell_type": "markdown",
      "metadata": {},
      "source": [
        "## Table extraction\n",
        "\n",
        "A basic `page.extract_table()` won't work \u2013 spacing is too narrow, not enough details \u2013 so we'll use guides to extract the table."
      ]
    },
    {
      "cell_type": "code",
      "execution_count": null,
      "metadata": {},
      "outputs": [],
      "source": [
        "from natural_pdf.analyzers.guides import Guides\n",
        "\n",
        "guides = Guides(page)"
      ]
    },
    {
      "cell_type": "markdown",
      "metadata": {},
      "source": [
        "### Table columns\n",
        "\n",
        "We'll start by creating some lines to separate each column. It's easiest to grab the \"NUMBER\" header and then everything to the right of it."
      ]
    },
    {
      "cell_type": "code",
      "execution_count": null,
      "metadata": {},
      "outputs": [],
      "source": [
        "region = (\n",
        "    page\n",
        "    .find(text=\"NUMBER\")\n",
        "    .right(include_source=True)\n",
        ")\n",
        "region.show(crop=100)"
      ]
    },
    {
      "cell_type": "markdown",
      "metadata": {},
      "source": [
        "When we grab each header we need a little 3px wiggle room, as the lines aren't *exactly* lined up."
      ]
    },
    {
      "cell_type": "code",
      "execution_count": null,
      "metadata": {},
      "outputs": [],
      "source": [
        "headers = (\n",
        "    page\n",
        "    .find(text=\"NUMBER\")\n",
        "    .right(include_source=True)\n",
        "    .expand(top=3, bottom=3)\n",
        "    .find_all('text')\n",
        ")\n",
        "headers.show(crop=100)"
      ]
    },
    {
      "cell_type": "markdown",
      "metadata": {},
      "source": [
        "Notice how all of the headers are left-aligned? We can use that to build a grid with our guides."
      ]
    },
    {
      "cell_type": "code",
      "execution_count": null,
      "metadata": {},
      "outputs": [],
      "source": [
        "guides.vertical.from_content(headers, align='left')\n",
        "guides.show()"
      ]
    },
    {
      "cell_type": "markdown",
      "metadata": {},
      "source": [
        "Now we need to separate out our rows: we have two options!\n",
        "\n",
        "/// tab | By zebra stripes\n",
        "\n",
        "Rows have alternating blue bands behind them. If we use `horizontal.from_stripes()` it will go through a two-step process:\n",
        "\n",
        "1. Find the most popular color rectangles\n",
        "2. Add guidelines for the top and bottom of each rectangle\n",
        "\n",
        "You can also set the `color=` or find+pass the rectangles yourself, but in this case it works with the default options."
      ]
    },
    {
      "cell_type": "code",
      "execution_count": null,
      "metadata": {},
      "outputs": [],
      "source": [
        "guides.horizontal.from_stripes()\n",
        "guides.show()"
      ]
    },
    {
      "cell_type": "markdown",
      "metadata": {},
      "source": [
        "///\n",
        "\n",
        "/// tab | By license number\n",
        "\n",
        "Instead of relying on the colored banding, we can also find an item that shows up exactly once in each row, then use that to draw the borders."
      ]
    },
    {
      "cell_type": "code",
      "execution_count": null,
      "metadata": {},
      "outputs": [],
      "source": [
        "(\n",
        "    page\n",
        "    .find(text=\"NUMBER\")\n",
        "    .below(width='element')\n",
        ").show(crop=100, width=700)"
      ]
    },
    {
      "cell_type": "markdown",
      "metadata": {},
      "source": [
        "We draw down from the **NUMBER** header, then find all of the elements under it. We do need to ask for `overlap='partial'` because the header doesn't fully encompass each license number."
      ]
    },
    {
      "cell_type": "code",
      "execution_count": null,
      "metadata": {},
      "outputs": [],
      "source": [
        "rows = (\n",
        "    page\n",
        "    .find(text=\"NUMBER\")\n",
        "    .below(\n",
        "      width='element',\n",
        "      include_source=True\n",
        "    )\n",
        "    .find_all('text', overlap='partial')\n",
        ")\n",
        "rows.show(crop=100, width=700)"
      ]
    },
    {
      "cell_type": "markdown",
      "metadata": {},
      "source": [
        "Now we can feed each row to `from_content` and tell Natural PDF to draw a border at the bottom of each one."
      ]
    },
    {
      "cell_type": "code",
      "execution_count": null,
      "metadata": {},
      "outputs": [],
      "source": [
        "guides.horizontal.from_content(rows, align='bottom')\n",
        "guides.show()"
      ]
    },
    {
      "cell_type": "markdown",
      "metadata": {},
      "source": [
        "///\n",
        "\n",
        "Depending on how you set up your extraction, `include_outer_boundaries=True` isn't necessarily necessary, but I'm using it here so that it works for both approaches up above (even though one gives you an extra column)."
      ]
    },
    {
      "cell_type": "code",
      "execution_count": null,
      "metadata": {},
      "outputs": [],
      "source": [
        "df = (\n",
        "  guides\n",
        "  .extract_table(include_outer_boundaries=True)\n",
        "  .to_df()\n",
        ")\n",
        "df.head()"
      ]
    }
  ],
  "metadata": {
    "kernelspec": {
      "display_name": "Python 3",
      "language": "python",
      "name": "python3"
    },
    "language_info": {
      "codemirror_mode": {
        "name": "ipython",
        "version": 3
      },
      "file_extension": ".py",
      "mimetype": "text/x-python",
      "name": "python",
      "nbconvert_exporter": "python",
      "pygments_lexer": "ipython3",
      "version": "3.8.0"
    }
  },
  "nbformat": 4,
  "nbformat_minor": 4
}