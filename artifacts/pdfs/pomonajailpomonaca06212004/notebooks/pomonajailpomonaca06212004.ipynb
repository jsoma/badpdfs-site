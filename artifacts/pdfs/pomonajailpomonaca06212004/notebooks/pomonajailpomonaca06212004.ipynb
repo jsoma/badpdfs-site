{
  "cells": [
    {
      "cell_type": "markdown",
      "metadata": {},
      "source": [
        "# ICE Detention Facilities Compliance Report Extraction\n",
        "\n",
        "This PDF is an ICE report on compliance among detention facilities over the last 20-30 years. Our aim is to extract facility statuses and contract signatories' names and dates. Challenges include strange redactions, blobby text, poor contrast, and ineffective OCR. It has handwritten signatures and dates that are redacted.\n"
      ]
    },
    {
      "cell_type": "code",
      "execution_count": null,
      "metadata": {},
      "outputs": [],
      "source": [
        "# Install natural-pdf\n",
        "!pip install natural-pdf"
      ]
    },
    {
      "cell_type": "code",
      "execution_count": null,
      "metadata": {},
      "outputs": [],
      "source": [
        "# Download the PDF file\n",
        "import urllib.request\n",
        "import os\n",
        "\n",
        "pdf_url = \"https://pub-4e99d31d19cb404d8d4f5f7efa51ef6e.r2.dev/pdfs/pomonajailpomonaca06212004/pomonajailpomonaca06212004.pdf\"\n",
        "pdf_name = \"pomonajailpomonaca06212004.pdf\"\n",
        "\n",
        "if not os.path.exists(pdf_name):\n",
        "    print(f\"Downloading {pdf_name}...\")\n",
        "    urllib.request.urlretrieve(pdf_url, pdf_name)\n",
        "    print(f\"Downloaded {pdf_name}\")\n",
        "else:\n",
        "    print(f\"{pdf_name} already exists\")"
      ]
    },
    {
      "cell_type": "markdown",
      "metadata": {},
      "source": [
        "# ICE Detention Facilities Compliance Report Extraction\n",
        "\n",
        "This PDF is an ICE report on compliance among detention facilities over the last 20-30 years. Our aim is to extract facility statuses and contract signatories' names and dates. Challenges include strange redactions, blobby text, poor contrast, and ineffective OCR. It has handwritten signatures and dates that are redacted.\n",
        "\n",
        "Let's take a look at one of the form pages. **The text recognition isn't very good** so wer'e going to load it in with `text_layer=False` and do our own OCR."
      ]
    },
    {
      "cell_type": "code",
      "execution_count": null,
      "metadata": {},
      "outputs": [],
      "source": [
        "from natural_pdf import PDF\n",
        "\n",
        "pdf = PDF(\"pomonajailpomonaca06212004.pdf\", text_layer=False)\n",
        "page = pdf.pages[3]\n",
        "page.show()"
      ]
    },
    {
      "cell_type": "markdown",
      "metadata": {},
      "source": [
        "Looks like it's going to be a nightmare! Let's apply OCR to convert the images to text."
      ]
    },
    {
      "cell_type": "code",
      "execution_count": null,
      "metadata": {},
      "outputs": [],
      "source": [
        "# pdf.apply_ocr(resolution=192) if we wanted the whole thing\n",
        "page.apply_ocr(resolution=192)\n",
        "text = page.extract_text()[:200]\n",
        "print(text)"
      ]
    },
    {
      "cell_type": "markdown",
      "metadata": {},
      "source": [
        "### Selecting content in a column\n",
        "\n",
        "We need to grab the content on column at a time, so let's start by focusing on the left column."
      ]
    },
    {
      "cell_type": "code",
      "execution_count": null,
      "metadata": {},
      "outputs": [],
      "source": [
        "left_col = page.region(right=page.width/2 - 15)\n",
        "left_col.show()"
      ]
    },
    {
      "cell_type": "markdown",
      "metadata": {},
      "source": [
        "We could also pull one specific section of the page if we wanted to"
      ]
    },
    {
      "cell_type": "code",
      "execution_count": null,
      "metadata": {},
      "outputs": [],
      "source": [
        "with left_col.within() as col:\n",
        "    portion = (\n",
        "        left_col\n",
        "        .find(\"text:closest(Name and Location)\")\n",
        "        .below(\n",
        "          until='text:contains(ICE Information)',\n",
        "          include_endpoint=False\n",
        "        )\n",
        "    )\n",
        "portion.show(crop=True)"
      ]
    },
    {
      "cell_type": "markdown",
      "metadata": {},
      "source": [
        "### Fuzzy matching\n",
        "\n",
        "Because there might be errors in reading the text, we're going to use `text:closest` to find our labels instead of `text:contains`. The code below will find the text that's *closest* to \"Dates of Review,\" even though it will actually come through as `Date[s] of Review` (I wasn't sure whether it would understand the brackets or convert them to parens)."
      ]
    },
    {
      "cell_type": "code",
      "execution_count": null,
      "metadata": {},
      "outputs": [],
      "source": [
        "label = (\n",
        "    left_col\n",
        "    .find(\"text:closest(Dates of Review)\")\n",
        ")\n",
        "print(\"Found\", label.extract_text())\n",
        "label.show(crop=20)"
      ]
    },
    {
      "cell_type": "markdown",
      "metadata": {},
      "source": [
        "Now we want to find the **first piece of text under it**. Normally we'd just be able to say \"find me the text below this,\" but sometimes when you run OCR on a page the content overlaps. By using `anchor='start'` we tell Natural PDF that \"below\" counts as anything below the *top* of the source text."
      ]
    },
    {
      "cell_type": "code",
      "execution_count": null,
      "metadata": {},
      "outputs": [],
      "source": [
        "with left_col.within() as col:\n",
        "    answer = (\n",
        "      label\n",
        "      .below(until='text', anchor='start')\n",
        "    )\n",
        "    print(answer.extract_text('words'))"
      ]
    },
    {
      "cell_type": "markdown",
      "metadata": {},
      "source": [
        "Notice that we use `left_col.within()` to make sure it doesnt' grab any text outside of the box. We also use `.endpoint` to make sure we're talking about only the text Natural PDF found directly below the label.\n",
        "\n",
        "We can duplicate this pattern for anything with the same top/bottom pattern. For example, the **county**."
      ]
    },
    {
      "cell_type": "code",
      "execution_count": null,
      "metadata": {},
      "outputs": [],
      "source": [
        "(\n",
        "  left_col\n",
        "  .find(\"text:closest(County)\")\n",
        "  .show(crop=50)\n",
        ")"
      ]
    },
    {
      "cell_type": "markdown",
      "metadata": {},
      "source": [
        "It just takes the same code:"
      ]
    },
    {
      "cell_type": "code",
      "execution_count": null,
      "metadata": {},
      "outputs": [],
      "source": [
        "with left_col.within() as col:\n",
        "    label = left_col.find(\"text:closest(County)\")\n",
        "    answer = label.below(until='text')\n",
        "    print(answer.extract_text('words'))"
      ]
    },
    {
      "cell_type": "markdown",
      "metadata": {},
      "source": [
        "This is an alternative approach to the `.endpoint` method we saw before. Sometimes text below the answer overlaps slightly with the answer, and if Natural PDF pulls character-by-character it pollutes the answer. By asking for complete \"words\" it should pull the right stuff.\n",
        "\n",
        "### Checkboxes\n",
        "\n",
        "This part is the hard one. We'll find the section under **Previous Rating**, expand it a bit (OCR never lines up perfectly) and trim out the whitespace to make it a nice tight box."
      ]
    },
    {
      "cell_type": "code",
      "execution_count": null,
      "metadata": {},
      "outputs": [],
      "source": [
        "with left_col.within() as col:\n",
        "    label = left_col.find(\"text:closest(Previous Rating)\")\n",
        "    answer = label.below(until='text')\n",
        "checkbox_region = answer.expand(5).trim()\n",
        "checkbox_region.show(crop=True)"
      ]
    },
    {
      "cell_type": "markdown",
      "metadata": {},
      "source": [
        "In an ideal world I'd have trained a nice custom checkbox analyzer, but *I did and it didn't work*. So instead we're going to train our own with a few examples. We'll start by grabbing the three checkboxes here."
      ]
    },
    {
      "cell_type": "code",
      "execution_count": null,
      "metadata": {},
      "outputs": [],
      "source": [
        "def get_checkbox(region):\n",
        "  return region.left(20).expand(top=3)\n",
        "\n",
        "region1 = get_checkbox(checkbox_region.find(text='Acceptable'))\n",
        "region2 = get_checkbox(checkbox_region.find(text='Deficient'))\n",
        "region3 = get_checkbox(checkbox_region.find(text='At-Risk'))\n",
        "(region1 + region2 + region3).show(crop=True)"
      ]
    },
    {
      "cell_type": "markdown",
      "metadata": {},
      "source": [
        "Now we'll add the first one as an example of a **checked** box and the second as an example of an **unchecked** box."
      ]
    },
    {
      "cell_type": "code",
      "execution_count": null,
      "metadata": {},
      "outputs": [],
      "source": [
        "from natural_pdf import Judge\n",
        "\n",
        "judge = Judge(\"checkboxes\", labels=[\"checked\", \"unchecked\"])\n",
        "judge.forget(delete=True)\n",
        "\n",
        "judge.add(region1, \"checked\")\n",
        "judge.add(region2, \"unchecked\")"
      ]
    },
    {
      "cell_type": "markdown",
      "metadata": {},
      "source": [
        "What's it think of the third one?"
      ]
    },
    {
      "cell_type": "code",
      "execution_count": null,
      "metadata": {},
      "outputs": [],
      "source": [
        "judge.decide(region3)"
      ]
    },
    {
      "cell_type": "markdown",
      "metadata": {},
      "source": [
        "Now let's add a bunch more!"
      ]
    },
    {
      "cell_type": "code",
      "execution_count": null,
      "metadata": {},
      "outputs": [],
      "source": [
        "judge.add(get_checkbox(page.find(text='Field Office')))\n",
        "judge.add(get_checkbox(page.find(text='HQ Review')))\n",
        "judge.add(get_checkbox(page.find('text[text=Court Order]')))\n",
        "judge.add(get_checkbox(page.find('text[text=Major Litigation]')))\n",
        "judge.add(get_checkbox(page.find('text[text=Class Action Order]')))\n",
        "judge.add(get_checkbox(page.find('text[text=No]')))"
      ]
    },
    {
      "cell_type": "markdown",
      "metadata": {},
      "source": [
        "What does it think about them, only knowing two examples?"
      ]
    },
    {
      "cell_type": "code",
      "execution_count": null,
      "metadata": {},
      "outputs": [],
      "source": [
        "judge.inspect()"
      ]
    },
    {
      "cell_type": "markdown",
      "metadata": {},
      "source": [
        "Usually you'd take a couple forms worth of checkboxes and mark them all, then send your judge on to the rest of your forms. You can do a quick graphical scoring interface with `judge.teach()`. Sadly I can't show it to you here because it's interacive."
      ]
    },
    {
      "cell_type": "code",
      "execution_count": null,
      "metadata": {},
      "outputs": [],
      "source": [
        "# judge.teach()"
      ]
    },
    {
      "cell_type": "markdown",
      "metadata": {},
      "source": [
        "But I promise once you do it you can easily see whether a checkbox on your document is checked or not."
      ]
    }
  ],
  "metadata": {
    "kernelspec": {
      "display_name": "Python 3",
      "language": "python",
      "name": "python3"
    },
    "language_info": {
      "codemirror_mode": {
        "name": "ipython",
        "version": 3
      },
      "file_extension": ".py",
      "mimetype": "text/x-python",
      "name": "python",
      "nbconvert_exporter": "python",
      "pygments_lexer": "ipython3",
      "version": "3.8.0"
    }
  },
  "nbformat": 4,
  "nbformat_minor": 4
}