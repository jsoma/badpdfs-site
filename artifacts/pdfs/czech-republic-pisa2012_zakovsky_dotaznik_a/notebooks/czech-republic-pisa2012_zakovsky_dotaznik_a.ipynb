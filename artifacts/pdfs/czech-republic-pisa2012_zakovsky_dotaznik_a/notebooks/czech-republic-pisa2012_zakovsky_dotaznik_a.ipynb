{
  "cells": [
    {
      "cell_type": "markdown",
      "metadata": {},
      "source": [
        "# Complex Table Extraction from OECD Czech PISA Assessment\n",
        "\n",
        "This PDF is a document from the OECD regarding the PISA assessment, provided in Czech. The main extraction goal is to get the survey question table found on page 9. Challenges include the weird table format, making it hard to extract automatically.\n"
      ]
    },
    {
      "cell_type": "code",
      "execution_count": null,
      "metadata": {},
      "outputs": [],
      "source": [
        "# Install natural-pdf\n",
        "!pip install natural-pdf"
      ]
    },
    {
      "cell_type": "code",
      "execution_count": null,
      "metadata": {},
      "outputs": [],
      "source": [
        "# Download the PDF file\n",
        "import urllib.request\n",
        "import os\n",
        "\n",
        "pdf_url = \"https://pub-4e99d31d19cb404d8d4f5f7efa51ef6e.r2.dev/pdfs/czech-republic-pisa2012_zakovsky_dotaznik_a/czech-republic-pisa2012_zakovsky_dotaznik_a.pdf\"\n",
        "pdf_name = \"czech-republic-pisa2012_zakovsky_dotaznik_a.pdf\"\n",
        "\n",
        "if not os.path.exists(pdf_name):\n",
        "    print(f\"Downloading {pdf_name}...\")\n",
        "    urllib.request.urlretrieve(pdf_url, pdf_name)\n",
        "    print(f\"Downloaded {pdf_name}\")\n",
        "else:\n",
        "    print(f\"{pdf_name} already exists\")"
      ]
    },
    {
      "cell_type": "markdown",
      "metadata": {},
      "source": [
        "# Complex Table Extraction from OECD Czech PISA Assessment\n",
        "\n",
        "This PDF is a document from the OECD regarding the PISA assessment, provided in Czech. The main extraction goal is to get the survey question table found on page 9. Challenges include the weird table format, making it hard to extract automatically.\n",
        "\n",
        "I'm assuming by \"survey question\" the submitter wants *as much as possible*. You can extend the work we do here to get all of the surveys in the PDF, but for now we're just going to do a single section of the survey, from pages 7-15."
      ]
    },
    {
      "cell_type": "code",
      "execution_count": null,
      "metadata": {},
      "outputs": [],
      "source": [
        "from natural_pdf import PDF\n",
        "\n",
        "pdf = PDF(\"czech-republic-pisa2012_zakovsky_dotaznik_a.pdf\")\n",
        "pdf.pages[6:15].show()"
      ]
    },
    {
      "cell_type": "markdown",
      "metadata": {},
      "source": [
        "If we want to look at one of the pages, it seems like the questions are in bold."
      ]
    },
    {
      "cell_type": "code",
      "execution_count": null,
      "metadata": {},
      "outputs": [],
      "source": [
        "pdf.pages[7].find_all(\"text:bold:not-empty\").show()"
      ]
    },
    {
      "cell_type": "markdown",
      "metadata": {},
      "source": [
        "Zoom in! You can see that some of the words, like vzd\u011bl\u00e1n\u00ed, are broken up into *multiple words*. We can see why if we inspect the text on the page."
      ]
    },
    {
      "cell_type": "code",
      "execution_count": null,
      "metadata": {},
      "outputs": [],
      "source": [
        "pdf.pages[7].inspect()"
      ]
    },
    {
      "cell_type": "markdown",
      "metadata": {},
      "source": [
        "Turns out the accented letters are a font variant! Each change in boldness, font size, or font type trigger the idea that something is a *new word*, even if we know it's not.\n",
        "\n",
        "Do we deal with it? Do we ignore it? At least two paths open up ahead!\n",
        "\n",
        "/// tab | Dissolving and `.find_all`\n",
        "By default we'll assume you don't know why this is happening, and lean heavily in `dissolve()`. Dissolve can be used to combine texts or regions that are close to one another."
      ]
    },
    {
      "cell_type": "code",
      "execution_count": null,
      "metadata": {},
      "outputs": [],
      "source": [
        "pdf.pages[7].find_all(\"text:bold:not-empty\").dissolve().show()"
      ]
    },
    {
      "cell_type": "markdown",
      "metadata": {},
      "source": [
        "When we use `dissolve()` on the selection you'll see them combine into blocks. Along with weird font issues, dissolving is also useful for combining parts of the same question that are broken into separate rows. By using `padding=5` we have the dissolve reach out five pixels to find nearby overlapping regions, including the ones on the row above/below."
      ]
    },
    {
      "cell_type": "code",
      "execution_count": null,
      "metadata": {},
      "outputs": [],
      "source": [
        "questions = (\n",
        "    pdf\n",
        "    .pages[6:15]\n",
        "    .find_all('text:bold[size~=14][x0>100]:not-empty')\n",
        "    .dissolve(padding=5)\n",
        ")\n",
        "questions.show()"
      ]
    },
    {
      "cell_type": "markdown",
      "metadata": {},
      "source": [
        "If we were just interested in the questions, we could pull them each out now."
      ]
    },
    {
      "cell_type": "code",
      "execution_count": null,
      "metadata": {},
      "outputs": [],
      "source": [
        "questions.extract_each_text()"
      ]
    },
    {
      "cell_type": "markdown",
      "metadata": {},
      "source": [
        "Instead, we're going to use the question to **break the page into sections**. Starting from each question, we'll look `.below()` until it hits the either:\n",
        "\n",
        "- The next question\n",
        "- A wide line (Why is it a `rect`? Who knows!)\n",
        "- The STXX text used to denote questions\n",
        "\n",
        "This didn't come easy: It took a lot of trial and error to see the right selectors."
      ]
    },
    {
      "cell_type": "code",
      "execution_count": null,
      "metadata": {},
      "outputs": [],
      "source": [
        "answer_areas = (\n",
        "    questions.below(\n",
        "        until='text:bold[size~=14]:regex(\\d+) | rect[width>300] | text:regex(^ST\\d)',\n",
        "        include_endpoint=False\n",
        "    )\n",
        ")\n",
        "answer_areas.show()"
      ]
    },
    {
      "cell_type": "markdown",
      "metadata": {},
      "source": [
        "Now we can find the text of the question by asking for the text that is neither bold nor tiny:"
      ]
    },
    {
      "cell_type": "code",
      "execution_count": null,
      "metadata": {},
      "outputs": [],
      "source": [
        "answer_areas[3].find_all('text:not(:italic):not-empty[size>8]').show()"
      ]
    },
    {
      "cell_type": "markdown",
      "metadata": {},
      "source": [
        "And if we want it for each of the questions, we'll just search through each of them.\n",
        "\n",
        "> There are about two hundred ways to do this part."
      ]
    },
    {
      "cell_type": "code",
      "execution_count": null,
      "metadata": {},
      "outputs": [],
      "source": [
        "results = []\n",
        "for question, answer_area in zip(questions, answer_areas):\n",
        "    result = {}\n",
        "    result['question'] = question.extract_text()\n",
        "    result['notes'] = (\n",
        "        answer_area\n",
        "        .find_all('text:italic:not-empty[size>8]')\n",
        "        .extract_text()\n",
        "    )\n",
        "    result['answers'] = (\n",
        "        answer_area\n",
        "        .find_all('text:not(:italic):not-empty[size>8]')\n",
        "        .extract_text()\n",
        "    )\n",
        "    results.append(result)\n",
        "print(\"Found\", len(results))"
      ]
    },
    {
      "cell_type": "markdown",
      "metadata": {},
      "source": [
        "Now we can pack it up into pandas and be good to go."
      ]
    },
    {
      "cell_type": "code",
      "execution_count": null,
      "metadata": {},
      "outputs": [],
      "source": [
        "import pandas as pd\n",
        "\n",
        "df = pd.DataFrame(results)\n",
        "df"
      ]
    },
    {
      "cell_type": "markdown",
      "metadata": {},
      "source": [
        "///\n",
        "\n",
        "/// tab | Breaking into sections\n",
        "\n",
        "Instead of focusing on the questions, we can also think about patterns on the page: each question begins with a number. Let's break the page up based on bold, size 14 text that includes numbers."
      ]
    },
    {
      "cell_type": "code",
      "execution_count": null,
      "metadata": {},
      "outputs": [],
      "source": [
        "sections = (\n",
        "    pdf\n",
        "    .pages[6:15]\n",
        "    .get_sections(\n",
        "        start_elements='text:bold[size~=14]:regex(\\d+)'\n",
        "    )\n",
        ")\n",
        "sections.show()"
      ]
    },
    {
      "cell_type": "markdown",
      "metadata": {},
      "source": [
        "Let's a look at the first section."
      ]
    },
    {
      "cell_type": "code",
      "execution_count": null,
      "metadata": {},
      "outputs": [],
      "source": [
        "sections[0].show()"
      ]
    },
    {
      "cell_type": "markdown",
      "metadata": {},
      "source": [
        "If we wanted the rough text from the section, we just ask for it."
      ]
    },
    {
      "cell_type": "code",
      "execution_count": null,
      "metadata": {},
      "outputs": [],
      "source": [
        "text = sections[0].extract_text(layout=True)\n",
        "print(text)"
      ]
    },
    {
      "cell_type": "markdown",
      "metadata": {},
      "source": [
        "Most likely we want to pull out the pieces separately: the italic, the bold, the normal. We can inspect the text on the page to see what selectors might work for each."
      ]
    },
    {
      "cell_type": "code",
      "execution_count": null,
      "metadata": {},
      "outputs": [],
      "source": [
        "sections[0].find_all('text').inspect()"
      ]
    },
    {
      "cell_type": "code",
      "execution_count": null,
      "metadata": {},
      "outputs": [],
      "source": [
        "question = sections[0].find_all('text:bold').extract_text()\n",
        "print(question)"
      ]
    },
    {
      "cell_type": "code",
      "execution_count": null,
      "metadata": {},
      "outputs": [],
      "source": [
        "notes = sections[0].find_all('text:italic[size~=14]').extract_text()\n",
        "print(notes)"
      ]
    },
    {
      "cell_type": "code",
      "execution_count": null,
      "metadata": {},
      "outputs": [],
      "source": [
        "answers = (\n",
        "    sections[0]\n",
        "    .find_all('text:not(:bold):not(:italic)[size=12]')\n",
        "    .extract_text(\n",
        "        layout=True,\n",
        "        strip=True,\n",
        "    )\n",
        ")\n",
        "print(answers)"
      ]
    },
    {
      "cell_type": "markdown",
      "metadata": {},
      "source": [
        "Now that we know it works for one of them, we can do it for all of the sections."
      ]
    },
    {
      "cell_type": "code",
      "execution_count": null,
      "metadata": {},
      "outputs": [],
      "source": [
        "results = []\n",
        "\n",
        "for section in sections:\n",
        "    question = (\n",
        "        section\n",
        "        .find_all('text:bold')\n",
        "        .extract_text()\n",
        "    )\n",
        "    notes = (\n",
        "        section\n",
        "        .find_all('text:italic[size~=14]')\n",
        "        .extract_text()\n",
        "    )\n",
        "    answers = (\n",
        "        section\n",
        "        .find_all('text:not(:bold):not(:italic)[size=12]')\n",
        "        .extract_text(layout=True, strip=True)\n",
        "    )\n",
        "    results.append({\n",
        "        'question': question,\n",
        "        'notes': notes,\n",
        "        'answers': answers\n",
        "    })\n",
        "len(results)"
      ]
    },
    {
      "cell_type": "markdown",
      "metadata": {},
      "source": [
        "Pop it into a pandas dataframe and you're ready to go!"
      ]
    },
    {
      "cell_type": "code",
      "execution_count": null,
      "metadata": {},
      "outputs": [],
      "source": [
        "import pandas as pd\n",
        "\n",
        "df = pd.DataFrame(results)\n",
        "df.head()"
      ]
    },
    {
      "cell_type": "markdown",
      "metadata": {},
      "source": [
        "///\n",
        "\n",
        "Done!"
      ]
    }
  ],
  "metadata": {
    "kernelspec": {
      "display_name": "Python 3",
      "language": "python",
      "name": "python3"
    },
    "language_info": {
      "codemirror_mode": {
        "name": "ipython",
        "version": 3
      },
      "file_extension": ".py",
      "mimetype": "text/x-python",
      "name": "python",
      "nbconvert_exporter": "python",
      "pygments_lexer": "ipython3",
      "version": "3.8.0"
    }
  },
  "nbformat": 4,
  "nbformat_minor": 4
}