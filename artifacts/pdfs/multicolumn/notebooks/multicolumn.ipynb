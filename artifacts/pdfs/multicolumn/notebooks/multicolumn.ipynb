{
  "cells": [
    {
      "cell_type": "markdown",
      "metadata": {},
      "source": [
        "# Working with page structure\n",
        "\n",
        "Extract text from complex multi-column layouts while maintaining proper reading order. Learn techniques for handling academic papers, newsletters, and documents with intricate column structures using Natural PDF's layout detection features.\n"
      ]
    },
    {
      "cell_type": "code",
      "execution_count": null,
      "metadata": {},
      "outputs": [],
      "source": [
        "# Install natural-pdf\n",
        "!pip install natural-pdf"
      ]
    },
    {
      "cell_type": "code",
      "execution_count": null,
      "metadata": {},
      "outputs": [],
      "source": [
        "# Download the PDF file\n",
        "import urllib.request\n",
        "import os\n",
        "\n",
        "pdf_url = \"https://pub-4e99d31d19cb404d8d4f5f7efa51ef6e.r2.dev/pdfs/multicolumn/multicolumn.pdf\"\n",
        "pdf_name = \"multicolumn.pdf\"\n",
        "\n",
        "if not os.path.exists(pdf_name):\n",
        "    print(f\"Downloading {pdf_name}...\")\n",
        "    urllib.request.urlretrieve(pdf_url, pdf_name)\n",
        "    print(f\"Downloaded {pdf_name}\")\n",
        "else:\n",
        "    print(f\"{pdf_name} already exists\")"
      ]
    },
    {
      "cell_type": "markdown",
      "metadata": {},
      "source": [
        "# Multi-page flows\n",
        "\n",
        "*Sometimes* you have data that flows over multiple columns, or pages, or just... isn't arranged in a \"normal\" top-to-bottom way."
      ]
    },
    {
      "cell_type": "code",
      "execution_count": null,
      "metadata": {},
      "outputs": [],
      "source": [
        "from natural_pdf import PDF\n",
        "\n",
        "pdf = PDF(\"multicolumn.pdf\")\n",
        "page = pdf.pages[0]\n",
        "page.show()"
      ]
    },
    {
      "cell_type": "markdown",
      "metadata": {},
      "source": [
        "Natural PDF deals with these through [reflowing pages](https://jsoma.github.io/natural-pdf/reflowing-pages/), where you grab specific regions of a page and then paste them back together either vertically or horizontally.\n",
        "\n",
        "In this example we're splitting the page into three columns."
      ]
    },
    {
      "cell_type": "code",
      "execution_count": null,
      "metadata": {},
      "outputs": [],
      "source": [
        "left = page.region(left=0, right=page.width/3, top=0, bottom=page.height)\n",
        "mid = page.region(left=page.width/3, right=page.width/3*2, top=0, bottom=page.height)\n",
        "right = page.region(left=page.width/3*2, right=page.width, top=0, bottom=page.height)\n",
        "page.highlight(left, mid, right)"
      ]
    },
    {
      "cell_type": "markdown",
      "metadata": {},
      "source": [
        "Now let's **stack them on top of each other**."
      ]
    },
    {
      "cell_type": "code",
      "execution_count": null,
      "metadata": {},
      "outputs": [],
      "source": [
        "from natural_pdf.flows import Flow\n",
        "\n",
        "stacked = [left, mid, right]\n",
        "flow = Flow(segments=stacked, arrangement=\"vertical\")\n",
        "flow.show()"
      ]
    },
    {
      "cell_type": "markdown",
      "metadata": {},
      "source": [
        "Now any time we want to use spatial comparisons, like \"find something below this,\" it *just works*."
      ]
    },
    {
      "cell_type": "code",
      "execution_count": null,
      "metadata": {},
      "outputs": [],
      "source": [
        "region = (\n",
        "    flow\n",
        "    .find('text:contains(\"Table one\")')\n",
        "    .below(\n",
        "        until='text:contains(\"Table two\")',\n",
        "        include_endpoint=False\n",
        "    )\n",
        ")\n",
        "region.show()"
      ]
    },
    {
      "cell_type": "markdown",
      "metadata": {},
      "source": [
        "It works for text, it works for tables, it works for **anything**. Let's see how we can get both tables on the page.\n",
        "\n",
        "First we find the bold headers \u2013 we need to say `width > 10` because otherwise it pulls some weird tiny empty boxes."
      ]
    },
    {
      "cell_type": "code",
      "execution_count": null,
      "metadata": {},
      "outputs": [],
      "source": [
        "(\n",
        "    flow\n",
        "    .find_all('text[width>10]:bold')\n",
        "    .show()\n",
        ")"
      ]
    },
    {
      "cell_type": "markdown",
      "metadata": {},
      "source": [
        "Then we take each of those headers, and go down down down until we either hit another bold header *or* the \"Here is a bit more text\" text."
      ]
    },
    {
      "cell_type": "code",
      "execution_count": null,
      "metadata": {},
      "outputs": [],
      "source": [
        "regions = (\n",
        "    flow\n",
        "    .find_all('text[width>10]:bold')\n",
        "    .below(\n",
        "        until='text[width>10]:bold|text:contains(\"Here is a bit\")',\n",
        "        include_endpoint=False\n",
        "    )\n",
        ")\n",
        "regions.show()\n"
      ]
    },
    {
      "cell_type": "markdown",
      "metadata": {},
      "source": [
        "Now we can use `.extract_table()` on *each individual region* to give us however many tables."
      ]
    },
    {
      "cell_type": "code",
      "execution_count": null,
      "metadata": {},
      "outputs": [],
      "source": [
        "regions[0].extract_table().to_df()"
      ]
    },
    {
      "cell_type": "code",
      "execution_count": null,
      "metadata": {},
      "outputs": [],
      "source": [
        "# Combine them if we want\n",
        "import pandas as pd\n",
        "\n",
        "dfs = regions.apply(lambda region: region.extract_table().to_df())\n",
        "merged = pd.concat(dfs, ignore_index=True)\n",
        "merged"
      ]
    },
    {
      "cell_type": "markdown",
      "metadata": {},
      "source": [
        "# Layout analysis and magic table extraction\n",
        "\n",
        "Similar to how we have feelings about what things are on a page - headers, tables, graphics \u2013 computers also have opinions! Just like some AI models have been trained to do things like identify pictures of cats and dogs or spell check, others are capable of **layout analysis** - [YOLO](https://huggingface.co/spaces/omoured/YOLOv11-Document-Layout-Analysis), [surya](https://github.com/datalab-to/surya), etc etc etc. There are a million! [TATR](https://github.com/microsoft/table-transformer) is one of the useful ones for us, it's *just for table detection*.\n",
        "\n",
        "But honestly: they're mostly trained on academic papers, so they aren't very good at the kinds of awful documents that journalists have to deal with. And with Natural PDF, you're probably selecting `text[size>12]:bold` in order to find headlines, anyway. *But* if your page has no readable text, they might be able to provide some useful information.\n",
        "\n",
        "Let's start with [YOLO](https://github.com/opendatalab/DocLayout-YOLO), the default."
      ]
    },
    {
      "cell_type": "code",
      "execution_count": null,
      "metadata": {},
      "outputs": [],
      "source": [
        "from natural_pdf import PDF\n",
        "\n",
        "pdf = PDF(\"needs-ocr.pdf\")\n",
        "page = pdf.pages[0]"
      ]
    },
    {
      "cell_type": "code",
      "execution_count": null,
      "metadata": {},
      "outputs": [],
      "source": [
        "# default is YOLO\n",
        "page.analyze_layout()\n",
        "page.find_all('region').show(group_by='type')"
      ]
    },
    {
      "cell_type": "code",
      "execution_count": null,
      "metadata": {},
      "outputs": [],
      "source": [
        "page.find('table').apply_ocr()\n",
        "text = page.extract_text()\n",
        "print(text)"
      ]
    },
    {
      "cell_type": "markdown",
      "metadata": {},
      "source": [
        "### Better layout analysis with tables\n",
        "\n",
        "Let's see what **TATR** - Microsoft's table transformer \u2013 finds for us."
      ]
    },
    {
      "cell_type": "code",
      "execution_count": null,
      "metadata": {},
      "outputs": [],
      "source": [
        "page.analyze_layout('tatr')\n",
        "page.find_all('region').show(group_by='type')"
      ]
    },
    {
      "cell_type": "markdown",
      "metadata": {},
      "source": [
        "There's just *so much stuff* that TATR is finding that it's all overlapping.\n",
        "\n",
        "For example, we can just look at one piece at a time."
      ]
    },
    {
      "cell_type": "code",
      "execution_count": null,
      "metadata": {},
      "outputs": [],
      "source": [
        "# table-cell\n",
        "# table-row\n",
        "# table-column\n",
        "page.find_all('region[type=table-column]').show(crop=True)"
      ]
    },
    {
      "cell_type": "code",
      "execution_count": null,
      "metadata": {},
      "outputs": [],
      "source": [
        "# Grab all of the columns\n",
        "cols = page.find_all('region[type=table-column]')\n",
        "\n",
        "# Take one of the columns and apply OCR to it\n",
        "cols[2].apply_ocr()\n",
        "text = cols[2].extract_text()\n",
        "print(text)"
      ]
    },
    {
      "cell_type": "code",
      "execution_count": null,
      "metadata": {},
      "outputs": [],
      "source": [
        "len(cols[2].find_all('text[source=ocr]'))"
      ]
    },
    {
      "cell_type": "code",
      "execution_count": null,
      "metadata": {},
      "outputs": [],
      "source": [
        "page.find('table').show()"
      ]
    },
    {
      "cell_type": "code",
      "execution_count": null,
      "metadata": {},
      "outputs": [],
      "source": [
        "data = page.find('table').extract_table()\n",
        "data"
      ]
    },
    {
      "cell_type": "markdown",
      "metadata": {},
      "source": [
        "## Why YOLO?\n",
        "\n",
        "I think YOLO is pretty good for isolating a part of a page that has a table, then using Guides to break it down."
      ]
    },
    {
      "cell_type": "code",
      "execution_count": null,
      "metadata": {},
      "outputs": [],
      "source": [
        "page.analyze_layout()\n",
        "page.find_all('region').show(group_by=\"type\")"
      ]
    },
    {
      "cell_type": "code",
      "execution_count": null,
      "metadata": {},
      "outputs": [],
      "source": [
        "table_area = page.find(\"region[type=table]\")\n",
        "table_area.apply_ocr()"
      ]
    },
    {
      "cell_type": "code",
      "execution_count": null,
      "metadata": {},
      "outputs": [],
      "source": [
        "text = table_area.extract_text()\n",
        "print(text)"
      ]
    },
    {
      "cell_type": "code",
      "execution_count": null,
      "metadata": {},
      "outputs": [],
      "source": [
        "from natural_pdf.analyzers import Guides\n",
        "\n",
        "guides = Guides(table_area)\n",
        "guides.vertical.from_lines(threshold=0.6)\n",
        "guides.horizontal.from_lines(threshold=0.6)\n",
        "guides.show()"
      ]
    },
    {
      "cell_type": "code",
      "execution_count": null,
      "metadata": {},
      "outputs": [],
      "source": [
        "guides.extract_table().to_df()"
      ]
    }
  ],
  "metadata": {
    "kernelspec": {
      "display_name": "Python 3",
      "language": "python",
      "name": "python3"
    },
    "language_info": {
      "codemirror_mode": {
        "name": "ipython",
        "version": 3
      },
      "file_extension": ".py",
      "mimetype": "text/x-python",
      "name": "python",
      "nbconvert_exporter": "python",
      "pygments_lexer": "ipython3",
      "version": "3.8.0"
    }
  },
  "nbformat": 4,
  "nbformat_minor": 4
}